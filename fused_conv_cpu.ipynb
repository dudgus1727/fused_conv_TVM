{
  "cells": [
    {
      "cell_type": "code",
      "execution_count": 1,
      "metadata": {
        "collapsed": false
      },
      "outputs": [],
      "source": [
        "%matplotlib inline"
      ]
    },
    {
      "cell_type": "code",
      "execution_count": 5,
      "metadata": {
        "collapsed": false
      },
      "outputs": [
        {
          "name": "stdout",
          "output_type": "stream",
          "text": [
            "[1, 3, 227, 227]\n",
            "[64, 3, 3, 3]\n",
            "[64, 64, 3, 3]\n"
          ]
        }
      ],
      "source": [
        "import numpy as np\n",
        "import tvm\n",
        "from tvm import te\n",
        "\n",
        "# The sizes of inputs and filters\n",
        "batch =1\n",
        "img_size = 227\n",
        "img_ch = 3\n",
        "filter_size = 3\n",
        "filter_num = 64\n",
        "\n",
        "# Algorithm\n",
        "In = te.placeholder((batch, img_ch, img_size, img_size), name=\"In\")\n",
        "W1 = te.placeholder((filter_num, img_ch, filter_size, filter_size), name=\"W1\")\n",
        "W2 = te.placeholder((filter_num, filter_num, filter_size, filter_size), name=\"W2\")\n",
        "\n",
        "print(In.shape)\n",
        "print(W1.shape)\n",
        "print(W2.shape)"
      ]
    },
    {
      "cell_type": "code",
      "execution_count": 6,
      "metadata": {},
      "outputs": [],
      "source": [
        "def Conv(Input, Kernel, stride, pad, name):\n",
        "    batch_size, in_channel, in_size, _ = Input.shape\n",
        "    out_channel,  _, kernel_size, _ = Kernel.shape\n",
        "\n",
        "    out_size = (in_size - kernel_size + 2 * pad) // stride + 1\n",
        "\n",
        "    if pad > 0:\n",
        "        Input = te.compute(\n",
        "            (in_size + 2 * pad, in_size + 2 * pad, in_channel, batch_size),\n",
        "            lambda yy, xx, cc, nn: tvm.tir.if_then_else(\n",
        "                tvm.tir.all(yy >= pad, yy - pad < in_size, xx >= pad, xx - pad < in_size),\n",
        "                Input[yy - pad, xx - pad, cc, nn],\n",
        "                tvm.tir.const(0.0, \"float32\"),),\n",
        "            name=name + \"_pad\",)\n",
        "\n",
        "    rc = te.reduce_axis((0, in_channel), name=name+\"_rc\")\n",
        "    ry = te.reduce_axis((0, kernel_size), name=name+\"_ry\")\n",
        "    rx = te.reduce_axis((0, kernel_size), name=name+\"_rx\")\n",
        "    # Compute the convolution\n",
        "    Conv = te.compute(\n",
        "        (batch_size, out_channel, out_size, out_size),\n",
        "        lambda nn, ff, yy, xx: te.sum(\n",
        "            Input[nn, rc, yy * stride + ry, xx * stride + rx] * Kernel[ff, rc, ry, rx], axis=[ry, rx, rc]\n",
        "        ),\n",
        "        name=name+'_conv',\n",
        "    )\n",
        "    return Conv"
      ]
    },
    {
      "cell_type": "code",
      "execution_count": 7,
      "metadata": {},
      "outputs": [],
      "source": [
        "conv1 = Conv(In, W1, stride=2, pad=0, name='l1')\n",
        "conv2 = Conv(conv1, W2, stride=2, pad=0, name='l2')"
      ]
    },
    {
      "cell_type": "code",
      "execution_count": 18,
      "metadata": {},
      "outputs": [
        {
          "name": "stdout",
          "output_type": "stream",
          "text": [
            "Convolution: 132.171369 ms\n"
          ]
        }
      ],
      "source": [
        "s = te.create_schedule(conv2.op)\n",
        "bn = 7\n",
        "# s[conv1].compute_at(s[conv2], conv2.op.axis[2])\n",
        "mo, no, mi, ni = s[conv2].tile(conv2.op.axis[1], conv2.op.axis[2], bn, bn)\n",
        "# s[conv2].parallel(mo)\n",
        "\n",
        "ry, rx, rc = s[conv1].op.reduce_axis\n",
        "ryxc = s[conv1].fuse(ry,rx,rc)\n",
        "s[conv1].unroll(ryxc)\n",
        "\n",
        "ry, rx, rc = s[conv2].op.reduce_axis\n",
        "ryxc = s[conv2].fuse(ry,rx,rc)\n",
        "s[conv2].unroll(ryxc)\n",
        "\n",
        "\n",
        "# ochw = s[conv2].fuse(mi,ni)\n",
        "# s[conv2].unroll(no)\n",
        "# s[conv2].vectorize(ochw)\n",
        "# # ry,rx, rc = s[conv2].op.reduce_axis\n",
        "# ko, ki = s[conv2].split(kaxis, factor=kfactor)\n",
        "# print(tvm.lower(s, [In, W1, W2, conv2], simple_mode=True))\n",
        "\n",
        "func = tvm.build(s, [In, W1, W2, conv2], \"llvm\", name='conv_normal')\n",
        "dev = tvm.cpu()\n",
        "a_np = np.random.uniform(size=[batch,img_ch, img_size,img_size]).astype(In.dtype)\n",
        "w1_np = np.random.uniform(size=[filter_num,img_ch,3,3]).astype(W1.dtype)\n",
        "w2_np = np.random.uniform(size=[filter_num,filter_num,3,3]).astype(W2.dtype)\n",
        "a = tvm.nd.array(a_np, dev)\n",
        "w1 = tvm.nd.array(w1_np, dev)\n",
        "w2 = tvm.nd.array(w2_np, dev)\n",
        "b = tvm.nd.array(np.zeros((1, filter_num, 56, 56), dtype='float32'), dev)\n",
        "func(a, w1, w2, b)\n",
        "evaluator = func.time_evaluator(func.entry_name, dev, number=1)\n",
        "print(\"Convolution: %f ms\" % (evaluator(a, w1, w2, b).mean * 1e3))"
      ]
    },
    {
      "cell_type": "code",
      "execution_count": 20,
      "metadata": {},
      "outputs": [
        {
          "name": "stdout",
          "output_type": "stream",
          "text": [
            "Convolution: 131.497636 ms\n"
          ]
        }
      ],
      "source": [
        "s = te.create_schedule(conv2.op)\n",
        "\n",
        "opt_level = 3\n",
        "target = 'llvm'\n",
        "with tvm.transform.PassContext(opt_level=opt_level):\n",
        "\tfunc = tvm.build(s, [In, W1, W2, conv2], \"llvm\", name='conv_normal')\n",
        "dev = tvm.cpu()\n",
        "a_np = np.random.uniform(size=[batch,img_ch, img_size,img_size]).astype(In.dtype)\n",
        "w1_np = np.random.uniform(size=[filter_num,img_ch,3,3]).astype(W1.dtype)\n",
        "w2_np = np.random.uniform(size=[filter_num,filter_num,3,3]).astype(W2.dtype)\n",
        "a = tvm.nd.array(a_np, dev)\n",
        "w1 = tvm.nd.array(w1_np, dev)\n",
        "w2 = tvm.nd.array(w2_np, dev)\n",
        "b = tvm.nd.array(np.zeros((1, filter_num, 56, 56), dtype='float32'), dev)\n",
        "func(a, w1, w2, b)\n",
        "evaluator = func.time_evaluator(func.entry_name, dev, number=1)\n",
        "print(\"Convolution: %f ms\" % (evaluator(a, w1, w2, b).mean * 1e3))"
      ]
    }
  ],
  "metadata": {
    "kernelspec": {
      "display_name": "Python 3.8.15 ('jax')",
      "language": "python",
      "name": "python3"
    },
    "language_info": {
      "codemirror_mode": {
        "name": "ipython",
        "version": 3
      },
      "file_extension": ".py",
      "mimetype": "text/x-python",
      "name": "python",
      "nbconvert_exporter": "python",
      "pygments_lexer": "ipython3",
      "version": "3.8.15"
    },
    "vscode": {
      "interpreter": {
        "hash": "a80d245055573cb444f9632de3654ee2e5037a494ec6959515d8eaba75b4a6a8"
      }
    }
  },
  "nbformat": 4,
  "nbformat_minor": 0
}
